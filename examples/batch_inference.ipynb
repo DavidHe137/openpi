{
  "cells": [
    {
      "cell_type": "markdown",
      "metadata": {},
      "source": [
        "# Batch Inference Example\n",
        "\n",
        "This notebook demonstrates how to use OpenPI for batch inference, processing multiple observations simultaneously for improved efficiency.\n"
      ]
    },
    {
      "cell_type": "code",
      "execution_count": 5,
      "metadata": {},
      "outputs": [
        {
          "data": {
            "text/plain": [
              "<module 'openpi.training.config' from '/research/data/zhenyang/openpi/src/openpi/training/config.py'>"
            ]
          },
          "execution_count": 5,
          "metadata": {},
          "output_type": "execute_result"
        }
      ],
      "source": [
        "import importlib\n",
        "\n",
        "import dataclasses\n",
        "import time\n",
        "import numpy as np\n",
        "import jax.numpy as jnp\n",
        "from openpi.models import model as _model\n",
        "importlib.reload(_model)\n",
        "\n",
        "from openpi.policies import libero_policy\n",
        "importlib.reload(libero_policy)\n",
        "\n",
        "from openpi.policies import policy_config as _policy_config\n",
        "importlib.reload(_policy_config)\n",
        "\n",
        "from openpi.shared import download\n",
        "importlib.reload(download)\n",
        "\n",
        "from openpi.training import config as _config\n",
        "importlib.reload(_config)\n"
      ]
    },
    {
      "cell_type": "markdown",
      "metadata": {},
      "source": [
        "## Setup Policy\n"
      ]
    },
    {
      "cell_type": "code",
      "execution_count": 2,
      "metadata": {},
      "outputs": [
        {
          "name": "stdout",
          "output_type": "stream",
          "text": [
            "Policy loaded successfully!\n"
          ]
        }
      ],
      "source": [
        "# Load configuration and checkpoint\n",
        "config = _config.get_config(\"pi05_libero\")\n",
        "checkpoint_dir = download.maybe_download(\"gs://openpi-assets/checkpoints/pi05_libero\")\n",
        "\n",
        "# Create policy\n",
        "policy = _policy_config.create_trained_policy(config, checkpoint_dir)\n",
        "print(\"Policy loaded successfully!\")\n"
      ]
    },
    {
      "cell_type": "markdown",
      "metadata": {},
      "source": [
        "## Create Batch of Examples\n"
      ]
    },
    {
      "cell_type": "code",
      "execution_count": 3,
      "metadata": {},
      "outputs": [
        {
          "name": "stdout",
          "output_type": "stream",
          "text": [
            "Created 4 examples\n",
            "Example keys: dict_keys(['observation/state', 'observation/image', 'observation/wrist_image', 'prompt'])\n"
          ]
        }
      ],
      "source": [
        "def create_batch_examples(batch_size: int = 3) -> list[dict]:\n",
        "    \"\"\"Create a batch of example observations.\"\"\"\n",
        "    examples = []\n",
        "    \n",
        "    for i in range(batch_size):\n",
        "        example = {\n",
        "            \"observation/state\": np.random.rand(8),\n",
        "            \"observation/image\": np.random.randint(256, size=(224, 224, 3), dtype=np.uint8),\n",
        "            \"observation/wrist_image\": np.random.randint(256, size=(224, 224, 3), dtype=np.uint8),\n",
        "            \"prompt\": f\"Task {i+1}: Pick up the object\",\n",
        "        }\n",
        "        examples.append(example)\n",
        "    \n",
        "    return examples\n",
        "\n",
        "# Create batch of 3 examples\n",
        "batch_examples = create_batch_examples(4)\n",
        "print(f\"Created {len(batch_examples)} examples\")\n",
        "print(f\"Example keys: {batch_examples[0].keys()}\")\n"
      ]
    },
    {
      "cell_type": "code",
      "execution_count": 7,
      "metadata": {},
      "outputs": [],
      "source": [
        "del policy"
      ]
    },
    {
      "cell_type": "markdown",
      "metadata": {},
      "source": [
        "## Single vs Batch Inference Comparison\n"
      ]
    },
    {
      "cell_type": "code",
      "execution_count": null,
      "metadata": {},
      "outputs": [],
      "source": [
        "# Single inference (original method)\n",
        "print(\"=== Single Inference ===\")\n",
        "single_start = time.time()\n",
        "single_results = []\n",
        "for i, example in enumerate(batch_examples):\n",
        "    result = policy.infer(example)\n",
        "    single_results.append(result)\n",
        "    print(f\"Single inference {i+1}: Actions shape = {result['actions'].shape}\")\n",
        "single_time = time.time() - single_start\n",
        "print(f\"Total single inference time: {single_time:.3f}s\")\n"
      ]
    },
    {
      "cell_type": "code",
      "execution_count": 6,
      "metadata": {},
      "outputs": [
        {
          "name": "stdout",
          "output_type": "stream",
          "text": [
            "\n",
            "=== Batch Inference ===\n"
          ]
        },
        {
          "ename": "AttributeError",
          "evalue": "'list' object has no attribute 'item'",
          "output_type": "error",
          "traceback": [
            "\u001b[31m---------------------------------------------------------------------------\u001b[39m",
            "\u001b[31mAttributeError\u001b[39m                            Traceback (most recent call last)",
            "\u001b[36mCell\u001b[39m\u001b[36m \u001b[39m\u001b[32mIn[6]\u001b[39m\u001b[32m, line 4\u001b[39m\n\u001b[32m      2\u001b[39m \u001b[38;5;28mprint\u001b[39m(\u001b[33m\"\u001b[39m\u001b[38;5;130;01m\\n\u001b[39;00m\u001b[33m=== Batch Inference ===\u001b[39m\u001b[33m\"\u001b[39m)\n\u001b[32m      3\u001b[39m batch_start = time.time()\n\u001b[32m----> \u001b[39m\u001b[32m4\u001b[39m batch_results = \u001b[43mpolicy\u001b[49m\u001b[43m.\u001b[49m\u001b[43minfer_batch\u001b[49m\u001b[43m(\u001b[49m\u001b[43mbatch_examples\u001b[49m\u001b[43m)\u001b[49m\n\u001b[32m      5\u001b[39m batch_time = time.time() - batch_start\n\u001b[32m      7\u001b[39m \u001b[38;5;28;01mfor\u001b[39;00m i, result \u001b[38;5;129;01min\u001b[39;00m \u001b[38;5;28menumerate\u001b[39m(batch_results):\n",
            "\u001b[36mFile \u001b[39m\u001b[32m/research/data/zhenyang/openpi/src/openpi/policies/policy.py:149\u001b[39m, in \u001b[36mPolicy.infer_batch\u001b[39m\u001b[34m(self, obs_batch, noise)\u001b[39m\n\u001b[32m    147\u001b[39m \u001b[38;5;66;03m# Apply transforms to batched observation\u001b[39;00m\n\u001b[32m    148\u001b[39m inputs = jax.tree.map(\u001b[38;5;28;01mlambda\u001b[39;00m x: x, batched_obs)\n\u001b[32m--> \u001b[39m\u001b[32m149\u001b[39m inputs = \u001b[38;5;28;43mself\u001b[39;49m\u001b[43m.\u001b[49m\u001b[43m_input_transform\u001b[49m\u001b[43m(\u001b[49m\u001b[43minputs\u001b[49m\u001b[43m)\u001b[49m\n\u001b[32m    151\u001b[39m \u001b[38;5;28;01mif\u001b[39;00m \u001b[38;5;129;01mnot\u001b[39;00m \u001b[38;5;28mself\u001b[39m._is_pytorch_model:\n\u001b[32m    152\u001b[39m     \u001b[38;5;66;03m# Convert to jax.Array (already batched)\u001b[39;00m\n\u001b[32m    153\u001b[39m     inputs = jax.tree.map(\u001b[38;5;28;01mlambda\u001b[39;00m x: jnp.asarray(x), inputs)\n",
            "\u001b[36mFile \u001b[39m\u001b[32m/research/data/zhenyang/openpi/src/openpi/transforms.py:70\u001b[39m, in \u001b[36mCompositeTransform.__call__\u001b[39m\u001b[34m(self, data)\u001b[39m\n\u001b[32m     68\u001b[39m \u001b[38;5;28;01mdef\u001b[39;00m\u001b[38;5;250m \u001b[39m\u001b[34m__call__\u001b[39m(\u001b[38;5;28mself\u001b[39m, data: DataDict) -> DataDict:\n\u001b[32m     69\u001b[39m     \u001b[38;5;28;01mfor\u001b[39;00m transform \u001b[38;5;129;01min\u001b[39;00m \u001b[38;5;28mself\u001b[39m.transforms:\n\u001b[32m---> \u001b[39m\u001b[32m70\u001b[39m         data = \u001b[43mtransform\u001b[49m\u001b[43m(\u001b[49m\u001b[43mdata\u001b[49m\u001b[43m)\u001b[49m\n\u001b[32m     71\u001b[39m     \u001b[38;5;28;01mreturn\u001b[39;00m data\n",
            "\u001b[36mFile \u001b[39m\u001b[32m/research/data/zhenyang/openpi/src/openpi/transforms.py:263\u001b[39m, in \u001b[36mTokenizePrompt.__call__\u001b[39m\u001b[34m(self, data)\u001b[39m\n\u001b[32m    260\u001b[39m     state = \u001b[38;5;28;01mNone\u001b[39;00m\n\u001b[32m    262\u001b[39m \u001b[38;5;28;01mif\u001b[39;00m \u001b[38;5;129;01mnot\u001b[39;00m \u001b[38;5;28misinstance\u001b[39m(prompt, \u001b[38;5;28mstr\u001b[39m):\n\u001b[32m--> \u001b[39m\u001b[32m263\u001b[39m     prompt = \u001b[43mprompt\u001b[49m\u001b[43m.\u001b[49m\u001b[43mitem\u001b[49m()\n\u001b[32m    265\u001b[39m tokens, token_masks = \u001b[38;5;28mself\u001b[39m.tokenizer.tokenize(prompt, state)\n\u001b[32m    266\u001b[39m \u001b[38;5;28;01mreturn\u001b[39;00m {**data, \u001b[33m\"\u001b[39m\u001b[33mtokenized_prompt\u001b[39m\u001b[33m\"\u001b[39m: tokens, \u001b[33m\"\u001b[39m\u001b[33mtokenized_prompt_mask\u001b[39m\u001b[33m\"\u001b[39m: token_masks}\n",
            "\u001b[31mAttributeError\u001b[39m: 'list' object has no attribute 'item'"
          ]
        }
      ],
      "source": [
        "# Batch inference (new method)\n",
        "print(\"\\n=== Batch Inference ===\")\n",
        "batch_start = time.time()\n",
        "batch_results = policy.infer_batch(batch_examples)\n",
        "batch_time = time.time() - batch_start\n",
        "\n",
        "for i, result in enumerate(batch_results):\n",
        "    print(f\"Batch inference {i+1}: Actions shape = {result['actions'].shape}\")\n",
        "print(f\"Total batch inference time: {batch_time:.3f}s\")\n",
        "print(f\"Speedup: {single_time/batch_time:.2f}x\")\n"
      ]
    }
  ],
  "metadata": {
    "kernelspec": {
      "display_name": "Python 3 (ipykernel)",
      "language": "python",
      "name": "python3"
    },
    "language_info": {
      "codemirror_mode": {
        "name": "ipython",
        "version": 3
      },
      "file_extension": ".py",
      "mimetype": "text/x-python",
      "name": "python",
      "nbconvert_exporter": "python",
      "pygments_lexer": "ipython3",
      "version": "3.11.13"
    }
  },
  "nbformat": 4,
  "nbformat_minor": 2
}
